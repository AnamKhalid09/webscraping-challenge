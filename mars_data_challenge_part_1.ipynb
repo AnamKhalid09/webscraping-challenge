{
 "cells": [
  {
   "cell_type": "code",
   "execution_count": 24,
   "metadata": {},
   "outputs": [],
   "source": [
    "# Import dependencies\n",
    "from splinter import Browser\n",
    "from bs4 import BeautifulSoup\n",
    "from webdriver_manager.chrome import ChromeDriverManager"
   ]
  },
  {
   "cell_type": "code",
   "execution_count": 25,
   "metadata": {},
   "outputs": [],
   "source": [
    "# Setup Splinter\n",
    "executable_path={'executable_path':ChromeDriverManager().install()}\n",
    "browser=Browser('chrome',**executable_path,headless=False)"
   ]
  },
  {
   "cell_type": "code",
   "execution_count": 26,
   "metadata": {},
   "outputs": [],
   "source": [
    "# URL\n",
    "url='https://redplanetscience.com/'\n",
    "browser.visit(url)"
   ]
  },
  {
   "cell_type": "code",
   "execution_count": 27,
   "metadata": {},
   "outputs": [],
   "source": [
    "# Creating html and BeautifulSoup object\n",
    "html=browser.html\n",
    "soup=BeautifulSoup(html,'html.parser')\n",
    "results=soup.find_all('div', class_='list_text')"
   ]
  },
  {
   "cell_type": "code",
   "execution_count": 51,
   "metadata": {},
   "outputs": [
    {
     "name": "stdout",
     "output_type": "stream",
     "text": [
      "----------\n",
      "{\"NASA's Perseverance Mars Rover Gets Its Wheels and Air Brakes\"}\n",
      "{'After the rover was shipped from JPL to Kennedy Space Center, the team is getting closer to finalizing the spacecraft for launch later this summer.'}\n",
      "----------\n",
      "{'NASA Wins Two Emmy Awards for Interactive Mission Coverage'}\n",
      "{\"NASA-JPL's coverage of the Mars InSight landing earns one of the two wins, making this the NASA center's second Emmy.\"}\n",
      "----------\n",
      "{'The MarCO Mission Comes to an End'}\n",
      "{'The pair of briefcase-sized satellites made history when they sailed past Mars in 2019.'}\n",
      "----------\n",
      "{'NASA to Reveal Name of Its Next Mars Rover'}\n",
      "{\"After a months-long contest among students to name NASA's newest Mars rover, the agency will reveal the winning name — and the winning student — this Thursday. \"}\n",
      "----------\n",
      "{'With Mars Methane Mystery Unsolved, Curiosity Serves Scientists a New One: Oxygen'}\n",
      "{'For the first time in the history of space exploration, scientists have measured the seasonal changes in the gases that fill the air directly above the surface of Gale Crater on Mars. '}\n",
      "----------\n",
      "{\"What's Mars Solar Conjunction, and Why Does It Matter?\"}\n",
      "{'NASA spacecraft at Mars are going to be on their own for a few weeks when the Sun comes between Mars and Earth, interrupting communications.'}\n",
      "----------\n",
      "{\"Media Get a Close-Up of NASA's Mars 2020 Rover\"}\n",
      "{\"The clean room at NASA's Jet Propulsion Laboratory was open to the media to see NASA's next Mars explorer before it leaves for Florida in preparation for a summertime launch.\"}\n",
      "----------\n",
      "{\"NASA's MAVEN Explores Mars to Understand Radio Interference at Earth\"}\n",
      "{'NASA’s MAVEN spacecraft has discovered “layers” and “rifts” in the electrically charged part of the upper atmosphere of Mars.'}\n",
      "----------\n",
      "{'NASA, ULA Launch Mars 2020 Perseverance Rover Mission to Red Planet'}\n",
      "{\"The agency's Mars 2020 mission is on its way. It will land at Jezero Crater in about seven months, on Feb. 18, 2021. \"}\n",
      "----------\n",
      "{'Independent Review Indicates NASA Prepared for Mars Sample Return Campaign'}\n",
      "{'NASA released an independent review report Tuesday indicating the agency is well positioned for its Mars Sample Return campaign to bring pristine samples from Mars to Earth for scientific study.'}\n",
      "----------\n",
      "{\"NASA's Curiosity Rover Finds an Ancient Oasis on Mars\"}\n",
      "{\"New evidence suggests salty, shallow ponds once dotted a Martian crater — a sign of the planet's drying climate.\"}\n",
      "----------\n",
      "{\"Three New Views of Mars' Moon Phobos\"}\n",
      "{\"Taken with the infrared camera aboard NASA's Odyssey orbiter, they reveal temperature variations on the small moon as it drifts into and out of Mars’ shadow.\"}\n",
      "----------\n",
      "{\"NASA InSight's 'Mole' Is Out of Sight\"}\n",
      "{\"Now that the heat probe is just below the Martian surface, InSight's arm will scoop some additional soil on top to help it keep digging so it can take Mars' temperature.\"}\n",
      "----------\n",
      "{'Two Rovers to Roll on Mars Again: Curiosity and Mars 2020'}\n",
      "{'They look like twins. But under the hood, the rover currently exploring the Red Planet and the one launching there this summer have distinct science tools and roles to play.'}\n",
      "----------\n",
      "{'Mars 2020 Unwrapped and Ready for More Testing'}\n",
      "{\"In time-lapse video, bunny-suited engineers remove the inner layer of protective foil on NASA's Mars 2020 rover after it was relocated for testing.\"}\n"
     ]
    }
   ],
   "source": [
    "# Iterate through the required results\n",
    "for result in results:\n",
    "    try:\n",
    "        title=result.find('div',class_=('content_title')).get_text()\n",
    "        preview=result.find('div',class_=('article_teaser_body')).get_text()\n",
    "        if (title and preview):\n",
    "            print('----------')\n",
    "            print(title)\n",
    "            print(preview)\n",
    "    except Exception as e:\n",
    "                print(e)\n",
    "\n",
    "\n",
    "\n"
   ]
  },
  {
   "cell_type": "code",
   "execution_count": 55,
   "metadata": {},
   "outputs": [
    {
     "ename": "TypeError",
     "evalue": "unhashable type: 'list'",
     "output_type": "error",
     "traceback": [
      "\u001b[1;31m---------------------------------------------------------------------------\u001b[0m",
      "\u001b[1;31mTypeError\u001b[0m                                 Traceback (most recent call last)",
      "\u001b[1;32m~\\AppData\\Local\\Temp\\ipykernel_7424\\3602796277.py\u001b[0m in \u001b[0;36m<module>\u001b[1;34m\u001b[0m\n\u001b[0;32m      1\u001b[0m \u001b[1;31m# Store data in a Python data structure, a list of dictionaries\u001b[0m\u001b[1;33m\u001b[0m\u001b[1;33m\u001b[0m\u001b[1;33m\u001b[0m\u001b[0m\n\u001b[1;32m----> 2\u001b[1;33m \u001b[0mtitle\u001b[0m\u001b[1;33m=\u001b[0m \u001b[1;33m[\u001b[0m\u001b[1;33m{\u001b[0m\u001b[0mtitle\u001b[0m\u001b[1;33m}\u001b[0m\u001b[1;33m]\u001b[0m\u001b[1;33m\u001b[0m\u001b[1;33m\u001b[0m\u001b[0m\n\u001b[0m\u001b[0;32m      3\u001b[0m \u001b[0mprint\u001b[0m\u001b[1;33m(\u001b[0m\u001b[0mtitle\u001b[0m\u001b[1;33m)\u001b[0m\u001b[1;33m\u001b[0m\u001b[1;33m\u001b[0m\u001b[0m\n",
      "\u001b[1;31mTypeError\u001b[0m: unhashable type: 'list'"
     ]
    }
   ],
   "source": [
    "# Store data in a Python data structure, a list of dictionaries"
   ]
  }
 ],
 "metadata": {
  "kernelspec": {
   "display_name": "Python 3.7.13 ('PythonData')",
   "language": "python",
   "name": "python3"
  },
  "language_info": {
   "codemirror_mode": {
    "name": "ipython",
    "version": 3
   },
   "file_extension": ".py",
   "mimetype": "text/x-python",
   "name": "python",
   "nbconvert_exporter": "python",
   "pygments_lexer": "ipython3",
   "version": "3.7.13"
  },
  "orig_nbformat": 4,
  "vscode": {
   "interpreter": {
    "hash": "9da66beca27f19bdf81de16e0121a30aa04d4edd5eb88e9a5610932102b72b6f"
   }
  }
 },
 "nbformat": 4,
 "nbformat_minor": 2
}
